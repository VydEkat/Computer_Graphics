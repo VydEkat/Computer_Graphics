{
 "cells": [
  {
   "cell_type": "code",
   "execution_count": 7,
   "id": "c299ba56",
   "metadata": {},
   "outputs": [],
   "source": [
    "#входные данные \n",
    "#директория со всеми данными\n",
    "directory = 'C:/Users/Admin/OpenCV/pictures'\n",
    "\n",
    "#Название аудиофайла\n",
    "audioFile = 'music.mp3'\n",
    "\n",
    "#Название видеофайла\n",
    "videoFile = 'Video.mp4'\n",
    "\n",
    "#название конечного файла\n",
    "result = 'Final_video_audio.mp4'"
   ]
  },
  {
   "cell_type": "code",
   "execution_count": 8,
   "id": "f9c80f6b",
   "metadata": {},
   "outputs": [],
   "source": [
    "#импорт необходимых библиотек\n",
    "#для работы с opencv\n",
    "import cv2\n",
    "#для работы с опер.сист.\n",
    "import os\n",
    "from os.path import join\n",
    "#для работы с массивами \n",
    "import numpy as np"
   ]
  },
  {
   "cell_type": "code",
   "execution_count": 9,
   "id": "b707086b",
   "metadata": {},
   "outputs": [],
   "source": [
    "#функция создания слайдшоу + переходы\n",
    "#на входе (путь до картинки, путь конечного сохранения, кол-во фреймов/сек, время на одну картинку)\n",
    "#на выходе mp4 файл\n",
    "def convert_pictures_to_video(pathIn, pathOut, fps, time):\n",
    "    #массив с исходными картинками\n",
    "    pictures_array = []\n",
    "    #массив с переделанными фреймами из картинок\n",
    "    frame_array = []\n",
    "    #считывание картинок из файла (с расширением .jpg)\n",
    "    jpg_files = [f for f in os.listdir(pathIn) if os.path.splitext(f)[1] == '.jpg']\n",
    "    #проход по каждой картинке из файла\n",
    "    for i in range(len(jpg_files)):\n",
    "        #путь до картинки\n",
    "        filename = pathIn + jpg_files[i]\n",
    "        #считывание картинки\n",
    "        img = cv2.imread(filename)\n",
    "        #изменение размера каритнки до 800х800\n",
    "        img = cv2.resize(img, (800, 800))\n",
    "        #сохранение высоты, ширины, количества слоев(RGB=3)\n",
    "        height, width, layers = img.shape\n",
    "        #сохранение размера картинки в отдельную переменную\n",
    "        size = (width, height)\n",
    "        \n",
    "        #добавление картинки в массив pictures_array \n",
    "        pictures_array.append(img)\n",
    "        \n",
    "        #добавление необходимово кол-ва фреймов в конечный массив для первой картинки, иначе для нее будет мало времени\n",
    "        if i==0:\n",
    "            for k in range(time):\n",
    "                frame_array.append(img)\n",
    "        #добавление переходов\n",
    "        else:\n",
    "            \n",
    "            #переход вправо\n",
    "            if i%5 == 1:\n",
    "                for m in range(0,800, 10):\n",
    "                    #конечная ширина обрезки новой картинки смещается  вправо\n",
    "                    width1, height1 = 800-m, 800\n",
    "                    x1, y1 = 0, 0\n",
    "                    width2, height2 = 800, 800\n",
    "                    #начальное положение обрезки старой картинки смещается вправо\n",
    "                    x2, y2 = 800-m, 0\n",
    "                    \n",
    "                    #обрезка картинок\n",
    "                    crop_img1 = pictures_array[i][y2:y2+height2, x2:x2+width2]\n",
    "                    crop_img2 = pictures_array[i-1][y1:y1+height1, x1:x1+width1]\n",
    "                    \n",
    "                    #соединение двух картинок по горизонтали\n",
    "                    res = np.concatenate((crop_img1, crop_img2), axis=1)\n",
    "                    #добавление этой конкатенации в конечный массив\n",
    "                    frame_array.append(res)\n",
    "                    \n",
    "            #плавный переход\n",
    "            elif i%5 == 2:\n",
    "                for m in range(100):\n",
    "                    #коэффициенты прозрачности наложения одной картинки на другую\n",
    "                    alpha = m/100\n",
    "                    beta = 1.0 - alpha\n",
    "                    #наложение одной каритнки на другую с некоторой прозрачностью\n",
    "                    res = cv2.addWeighted(pictures_array[i], alpha, pictures_array[i-1], beta, 0.0)\n",
    "                    frame_array.append(res)\n",
    "            \n",
    "            #переход влево\n",
    "            elif i%5 == 3:\n",
    "                for m in range(0,800, 10):\n",
    "                    width1, height1 = 800-m, 800\n",
    "                    x1, y1 = 0, 0\n",
    "                    width2, height2 = 800, 800\n",
    "                    x2, y2 = 800-m, 0\n",
    "                    crop_img1 = pictures_array[i][y2:y2+height2, x2:x2+width2]\n",
    "                    crop_img2 = pictures_array[i-1][y1:y1+height1, x1:x1+width1]\n",
    "                    \n",
    "                    #соединение двух картинок как в переходе вправо, но наоборот\n",
    "                    res = np.concatenate((crop_img2, crop_img1), axis=1)\n",
    "                    \n",
    "                    frame_array.append(res)\n",
    "                    \n",
    "            #переход вниз\n",
    "            elif i%5 == 4:\n",
    "                for m in range(0,800, 10):\n",
    "                    #конечная высота обрезки новой картинки смещается вниз\n",
    "                    width1, height1 = 800, 800-m\n",
    "                    x1, y1 = 0, 0\n",
    "                    width2, height2 = 800, 800\n",
    "                    #начальное положение обрезки старой картинки смещается вниз\n",
    "                    x2, y2 = 0, 800-m\n",
    "                    crop_img1 = pictures_array[i][y2:y2+height2, x2:x2+width2]\n",
    "                    crop_img2 = pictures_array[i-1][y1:y1+height1, x1:x1+width1]\n",
    "                    \n",
    "                    #соединение картинок по вертикали\n",
    "                    res = np.concatenate((crop_img1, crop_img2), axis=0)\n",
    "\n",
    "                    frame_array.append(res)\n",
    "            \n",
    "            #переход вверх\n",
    "            elif i%5 == 0:\n",
    "                for m in range(0,800, 10):\n",
    "                    width1, height1 = 800, 800-m\n",
    "                    x1, y1 = 0, 0\n",
    "                    width2, height2 = 800, 800\n",
    "                    x2, y2 = 0, 800-m\n",
    "                    crop_img1 = pictures_array[i][y2:y2+height2, x2:x2+width2]\n",
    "                    crop_img2 = pictures_array[i-1][y1:y1+height1, x1:x1+width1]\n",
    "                    \n",
    "                    #соединение двух картинок как в переходе вниз, но наоборот\n",
    "                    res = np.concatenate((crop_img2, crop_img1), axis=0)\n",
    "\n",
    "                    frame_array.append(res)\n",
    "            \n",
    "            #добавление фреймов оригинальной картинки в конечный массив в зависимости от времени\n",
    "            for k in range(time):\n",
    "                frame_array.append(img)\n",
    "                \n",
    "    #инициализироуем видео-мэйкер с параметрами выходного пути, кодека, фпс, размера файла\n",
    "    output = cv2.VideoWriter(pathOut, cv2.VideoWriter_fourcc(*'mp4v'), fps, size)\n",
    "    \n",
    "    #преобразовываем каждый фрейм в видео \n",
    "    for i in range(len(frame_array)):\n",
    "        output.write(frame_array[i])\n",
    "    \n",
    "    #релиз видео\n",
    "    output.release()"
   ]
  },
  {
   "cell_type": "code",
   "execution_count": 10,
   "id": "dfe653fe",
   "metadata": {},
   "outputs": [],
   "source": [
    "pathIn = directory + '/'\n",
    "\n",
    "#название выходного файла-слайдшоу (без видео и аудио)\n",
    "outputFile_1 = 'Slideshow.mp4'\n",
    "\n",
    "#конечный путь для выходного файла-слайдшоу\n",
    "pathOut = pathIn + outputFile_1\n",
    "\n",
    "#количество фреймов в сек.\n",
    "fps = 50\n",
    "\n",
    "#время просмотра одной картинки -- здесь 2 сек.\n",
    "time = fps*2"
   ]
  },
  {
   "cell_type": "code",
   "execution_count": 11,
   "id": "1a5e5fac",
   "metadata": {},
   "outputs": [],
   "source": [
    "#вызов функции\n",
    "convert_pictures_to_video(pathIn, pathOut, fps, time)"
   ]
  },
  {
   "cell_type": "code",
   "execution_count": 12,
   "id": "432c4bef",
   "metadata": {},
   "outputs": [],
   "source": [
    "#импорт библиотек и модулей для работы с конкатенацией видео и наложения аудио\n",
    "from moviepy.editor import VideoFileClip, concatenate_videoclips, AudioFileClip, CompositeAudioClip\n",
    "#модуль для работы с громкостью звука\n",
    "from moviepy.audio.fx.volumex import volumex"
   ]
  },
  {
   "cell_type": "code",
   "execution_count": 13,
   "id": "c84f1f8e",
   "metadata": {},
   "outputs": [
    {
     "name": "stdout",
     "output_type": "stream",
     "text": [
      "Moviepy - Building video C:/Users/Admin/OpenCV/pictures/Final_video.mp4.\n",
      "MoviePy - Writing audio in Final_videoTEMP_MPY_wvf_snd.mp3\n"
     ]
    },
    {
     "name": "stderr",
     "output_type": "stream",
     "text": [
      "                                                                                                                       \r"
     ]
    },
    {
     "name": "stdout",
     "output_type": "stream",
     "text": [
      "MoviePy - Done.\n",
      "Moviepy - Writing video C:/Users/Admin/OpenCV/pictures/Final_video.mp4\n",
      "\n"
     ]
    },
    {
     "name": "stderr",
     "output_type": "stream",
     "text": [
      "                                                                                                                       \r"
     ]
    },
    {
     "name": "stdout",
     "output_type": "stream",
     "text": [
      "Moviepy - Done !\n",
      "Moviepy - video ready C:/Users/Admin/OpenCV/pictures/Final_video.mp4\n"
     ]
    }
   ],
   "source": [
    "#создание клипа из аудиофайла\n",
    "audioClip = AudioFileClip(pathIn + audioFile)\n",
    "#уменьшение громкости звука на 50%\n",
    "audioClip = audioClip.fx(volumex, 0.5)\n",
    "#создание клипа из файла-слайдшоу\n",
    "slideshowVideo = VideoFileClip(pathIn + outputFile_1)\n",
    "#создание клипа из данного видеофайла\n",
    "originalVideo = VideoFileClip(pathIn + videoFile).subclip(0,audioClip.duration - slideshowVideo.duration)\n",
    "\n",
    "#конкатенация файла-слайдшоу и данного видеофайла\n",
    "finalVideo = concatenate_videoclips([slideshowVideo, originalVideo], method=\"compose\")\n",
    "\n",
    "#название сконкатенированного файла\n",
    "outputFile_2 = 'Final_video.mp4'\n",
    "\n",
    "#запись финального видео без аудио в папку\n",
    "finalVideo.write_videofile(pathIn + outputFile_2)"
   ]
  },
  {
   "cell_type": "code",
   "execution_count": 14,
   "id": "8c21b8e0",
   "metadata": {},
   "outputs": [
    {
     "name": "stdout",
     "output_type": "stream",
     "text": [
      "Moviepy - Building video C:/Users/Admin/OpenCV/pictures/Final_video_audio.mp4.\n",
      "MoviePy - Writing audio in Final_video_audioTEMP_MPY_wvf_snd.mp3\n"
     ]
    },
    {
     "name": "stderr",
     "output_type": "stream",
     "text": [
      "                                                                                                                       \r"
     ]
    },
    {
     "name": "stdout",
     "output_type": "stream",
     "text": [
      "MoviePy - Done.\n",
      "Moviepy - Writing video C:/Users/Admin/OpenCV/pictures/Final_video_audio.mp4\n",
      "\n"
     ]
    },
    {
     "name": "stderr",
     "output_type": "stream",
     "text": [
      "                                                                                                                       \r"
     ]
    },
    {
     "name": "stdout",
     "output_type": "stream",
     "text": [
      "Moviepy - Done !\n",
      "Moviepy - video ready C:/Users/Admin/OpenCV/pictures/Final_video_audio.mp4\n"
     ]
    }
   ],
   "source": [
    "#композиция аудио из видео и аудиоклипа\n",
    "finalVideoAudio = CompositeAudioClip([finalVideo.audio, audioClip])\n",
    "#наложение аудио на финальное видео\n",
    "finalVideoAudio = finalVideo.set_audio(finalVideoAudio)\n",
    "#запись конечного файла в папку\n",
    "finalVideoAudio.write_videofile(pathIn + result)"
   ]
  }
 ],
 "metadata": {
  "kernelspec": {
   "display_name": "Python 3 (ipykernel)",
   "language": "python",
   "name": "python3"
  },
  "language_info": {
   "codemirror_mode": {
    "name": "ipython",
    "version": 3
   },
   "file_extension": ".py",
   "mimetype": "text/x-python",
   "name": "python",
   "nbconvert_exporter": "python",
   "pygments_lexer": "ipython3",
   "version": "3.9.7"
  }
 },
 "nbformat": 4,
 "nbformat_minor": 5
}
